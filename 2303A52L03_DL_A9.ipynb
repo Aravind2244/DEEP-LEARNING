{
  "nbformat": 4,
  "nbformat_minor": 0,
  "metadata": {
    "colab": {
      "provenance": [],
      "gpuType": "T4",
      "authorship_tag": "ABX9TyOmib2uu2n/cIoyPZBaTp+d",
      "include_colab_link": true
    },
    "kernelspec": {
      "name": "python3",
      "display_name": "Python 3"
    },
    "language_info": {
      "name": "python"
    },
    "accelerator": "GPU"
  },
  "cells": [
    {
      "cell_type": "markdown",
      "metadata": {
        "id": "view-in-github",
        "colab_type": "text"
      },
      "source": [
        "<a href=\"https://colab.research.google.com/github/Aravind2244/DEEP-LEARNING/blob/main/2303A52L03_DL_A9.ipynb\" target=\"_parent\"><img src=\"https://colab.research.google.com/assets/colab-badge.svg\" alt=\"Open In Colab\"/></a>"
      ]
    },
    {
      "cell_type": "code",
      "execution_count": 2,
      "metadata": {
        "id": "R48RIpoq2gOD"
      },
      "outputs": [],
      "source": [
        "# Import necessary libraries\n",
        "import numpy as np\n",
        "import tensorflow as tf\n",
        "from tensorflow.keras.datasets import mnist\n",
        "from tensorflow.keras.models import Sequential\n",
        "from tensorflow.keras.layers import Dense, Flatten\n",
        "from tensorflow.keras.utils import to_categorical"
      ]
    },
    {
      "cell_type": "code",
      "source": [
        "# Load MNIST dataset\n",
        "(x_train, y_train), (x_test, y_test) = mnist.load_data()"
      ],
      "metadata": {
        "id": "VedbOo7z3R9C"
      },
      "execution_count": 3,
      "outputs": []
    },
    {
      "cell_type": "code",
      "source": [
        "# Normalize the input data\n",
        "x_train = x_train.astype(\"float32\") / 255.0\n",
        "x_test = x_test.astype(\"float32\") / 255.0\n",
        "\n",
        "# One-hot encode the labels\n",
        "y_train = to_categorical(y_train, 10)\n",
        "y_test = to_categorical(y_test, 10)"
      ],
      "metadata": {
        "id": "BQUvldzi3T7O"
      },
      "execution_count": 4,
      "outputs": []
    },
    {
      "cell_type": "code",
      "source": [
        "# Define the ANN model (initial architecture)\n",
        "model = Sequential([\n",
        "    Flatten(input_shape=(28, 28)),\n",
        "    Dense(32, activation='relu'),\n",
        "    Dense(32, activation='relu'),\n",
        "    Dense(32, activation='relu'),\n",
        "    Dense(10, activation='softmax')\n",
        "])"
      ],
      "metadata": {
        "colab": {
          "base_uri": "https://localhost:8080/"
        },
        "id": "TZSv31IF3XX_",
        "outputId": "540acaf3-92e2-47b0-d684-4e1b89579041"
      },
      "execution_count": 6,
      "outputs": [
        {
          "output_type": "stream",
          "name": "stderr",
          "text": [
            "/usr/local/lib/python3.11/dist-packages/keras/src/layers/reshaping/flatten.py:37: UserWarning: Do not pass an `input_shape`/`input_dim` argument to a layer. When using Sequential models, prefer using an `Input(shape)` object as the first layer in the model instead.\n",
            "  super().__init__(**kwargs)\n"
          ]
        }
      ]
    },
    {
      "cell_type": "code",
      "source": [
        "# Compile the model\n",
        "model.compile(optimizer='adadelta',\n",
        "              loss='categorical_crossentropy',\n",
        "              metrics=['accuracy'])"
      ],
      "metadata": {
        "id": "oFoHZtGO3ZBS"
      },
      "execution_count": 7,
      "outputs": []
    },
    {
      "cell_type": "code",
      "source": [
        "# Train the model\n",
        "history = model.fit(x_train, y_train,\n",
        "                    epochs=10,\n",
        "                    batch_size=128,\n",
        "                    validation_data=(x_test, y_test),\n",
        "                    verbose=2)\n",
        "\n",
        "# Evaluate the model\n",
        "train_loss, train_acc = model.evaluate(x_train, y_train, verbose=0)\n",
        "test_loss, test_acc = model.evaluate(x_test, y_test, verbose=0)\n",
        "\n",
        "print(f\"Training Accuracy: {train_acc:.4f}\")\n",
        "print(f\"Testing Accuracy: {test_acc:.4f}\")"
      ],
      "metadata": {
        "colab": {
          "base_uri": "https://localhost:8080/"
        },
        "id": "qjWAd-bl3ciT",
        "outputId": "ed440f63-1299-41d9-f63c-f856b33c9c95"
      },
      "execution_count": 8,
      "outputs": [
        {
          "output_type": "stream",
          "name": "stdout",
          "text": [
            "Epoch 1/10\n",
            "469/469 - 4s - 8ms/step - accuracy: 0.0720 - loss: 2.3105 - val_accuracy: 0.0728 - val_loss: 2.3066\n",
            "Epoch 2/10\n",
            "469/469 - 1s - 3ms/step - accuracy: 0.0840 - loss: 2.3004 - val_accuracy: 0.0881 - val_loss: 2.2969\n",
            "Epoch 3/10\n",
            "469/469 - 2s - 4ms/step - accuracy: 0.1011 - loss: 2.2910 - val_accuracy: 0.1109 - val_loss: 2.2875\n",
            "Epoch 4/10\n",
            "469/469 - 1s - 3ms/step - accuracy: 0.1253 - loss: 2.2818 - val_accuracy: 0.1396 - val_loss: 2.2783\n",
            "Epoch 5/10\n",
            "469/469 - 3s - 5ms/step - accuracy: 0.1544 - loss: 2.2727 - val_accuracy: 0.1708 - val_loss: 2.2690\n",
            "Epoch 6/10\n",
            "469/469 - 2s - 5ms/step - accuracy: 0.1824 - loss: 2.2634 - val_accuracy: 0.1966 - val_loss: 2.2594\n",
            "Epoch 7/10\n",
            "469/469 - 1s - 3ms/step - accuracy: 0.2079 - loss: 2.2536 - val_accuracy: 0.2198 - val_loss: 2.2492\n",
            "Epoch 8/10\n",
            "469/469 - 1s - 3ms/step - accuracy: 0.2294 - loss: 2.2433 - val_accuracy: 0.2394 - val_loss: 2.2384\n",
            "Epoch 9/10\n",
            "469/469 - 1s - 3ms/step - accuracy: 0.2465 - loss: 2.2322 - val_accuracy: 0.2545 - val_loss: 2.2267\n",
            "Epoch 10/10\n",
            "469/469 - 2s - 5ms/step - accuracy: 0.2610 - loss: 2.2203 - val_accuracy: 0.2675 - val_loss: 2.2141\n",
            "Training Accuracy: 0.2671\n",
            "Testing Accuracy: 0.2675\n"
          ]
        }
      ]
    }
  ]
}