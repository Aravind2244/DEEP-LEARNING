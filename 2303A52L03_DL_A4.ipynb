{
  "nbformat": 4,
  "nbformat_minor": 0,
  "metadata": {
    "colab": {
      "provenance": [],
      "authorship_tag": "ABX9TyNj2kr+3HwU8tVZAvNJyzhm",
      "include_colab_link": true
    },
    "kernelspec": {
      "name": "python3",
      "display_name": "Python 3"
    },
    "language_info": {
      "name": "python"
    }
  },
  "cells": [
    {
      "cell_type": "markdown",
      "metadata": {
        "id": "view-in-github",
        "colab_type": "text"
      },
      "source": [
        "<a href=\"https://colab.research.google.com/github/Aravind2244/DEEP-LEARNING/blob/main/2303A52L03_DL_A4.ipynb\" target=\"_parent\"><img src=\"https://colab.research.google.com/assets/colab-badge.svg\" alt=\"Open In Colab\"/></a>"
      ]
    },
    {
      "cell_type": "code",
      "source": [
        "import numpy as np\n",
        "\n",
        "# Training Data\n",
        "X_train = np.array([\n",
        "    [0.1, 0.2, 0.3],\n",
        "    [0.2, 0.3, 0.4],\n",
        "    [0.3, 0.4, 0.5],\n",
        "    [0.5, 0.6, 0.7],\n",
        "    [0.1, 0.3, 0.5],\n",
        "    [0.2, 0.4, 0.6],\n",
        "    [0.3, 0.5, 0.7],\n",
        "    [0.4, 0.6, 0.8],\n",
        "    [0.5, 0.7, 0.1]\n",
        "])\n",
        "y_train = np.array([0.14, 0.20, 0.26, 0.38, 0.22, 0.28, 0.34, 0.40, 0.22])\n",
        "\n",
        "# Initialize weights and bias\n",
        "weights = np.random.randn(3)  # 3 weights for the 3 inputs\n",
        "bias = np.random.randn(1)\n",
        "\n",
        "# Learning rate and number of epochs\n",
        "learning_rate = 0.1\n",
        "epochs = 1000\n",
        "\n",
        "# Mean Squared Error (MSE) function\n",
        "def mean_squared_error(y_true, y_pred):\n",
        "    return np.mean((y_true - y_pred) ** 2)\n",
        "\n",
        "# Stochastic Gradient Descent (SGD) training function\n",
        "def train_sgd(X, y, weights, bias, learning_rate, epochs):\n",
        "    for epoch in range(epochs):\n",
        "        # Shuffle the dataset (optional but recommended)\n",
        "        perm = np.random.permutation(len(X))\n",
        "        X_shuffled = X[perm]\n",
        "        y_shuffled = y[perm]\n",
        "\n",
        "        # Perform SGD update for each sample\n",
        "        for i in range(len(X)):\n",
        "            x_i = X_shuffled[i]\n",
        "            y_i = y_shuffled[i]\n",
        "\n",
        "            # Forward pass: compute the prediction\n",
        "            y_pred = np.dot(x_i, weights) + bias\n",
        "\n",
        "            # Compute the error (difference between prediction and actual value)\n",
        "            error = y_pred - y_i\n",
        "\n",
        "            # Compute the gradients\n",
        "            gradient_w = error * x_i  # Gradient with respect to weights\n",
        "            gradient_b = error  # Gradient with respect to bias\n",
        "\n",
        "            # Update weights and bias using the gradients\n",
        "            weights -= learning_rate * gradient_w\n",
        "            bias -= learning_rate * gradient_b\n",
        "\n",
        "        # Compute and print the MSE after each epoch\n",
        "        if epoch % 100 == 0:\n",
        "            y_pred_train = np.dot(X, weights) + bias\n",
        "            mse = mean_squared_error(y, y_pred_train)\n",
        "            print(f'Epoch {epoch}, MSE: {mse}')\n",
        "\n",
        "    return weights, bias\n",
        "\n",
        "# Train the model using SGD\n",
        "weights, bias = train_sgd(X_train, y_train, weights, bias, learning_rate, epochs)\n",
        "\n",
        "# Make predictions\n",
        "def predict(x1, x2, x3, weights, bias):\n",
        "    return np.dot([x1, x2, x3], weights) + bias\n",
        "\n",
        "# Test the model on test data\n",
        "X_test = np.array([\n",
        "    [0.6, 0.7, 0.8],\n",
        "    [0.7, 0.8, 0.9]\n",
        "])\n",
        "y_test = np.array([0.44, 0.50])\n",
        "\n",
        "# Predict on test data\n",
        "y_test_pred = np.array([predict(x[0], x[1], x[2], weights, bias) for x in X_test])\n",
        "\n",
        "# Calculate MSE on test data\n",
        "mse_test = mean_squared_error(y_test, y_test_pred)\n",
        "print(f'Test Data MSE: {mse_test}')\n",
        "\n",
        "# Predict output for user input\n",
        "def user_input_prediction():\n",
        "    x1 = float(input(\"Enter x1: \"))\n",
        "    x2 = float(input(\"Enter x2: \"))\n",
        "    x3 = float(input(\"Enter x3: \"))\n",
        "    prediction = predict(x1, x2, x3, weights, bias)\n",
        "    print(f\"Predicted output: {prediction}\")\n",
        "\n",
        "# Uncomment to allow user input prediction\n",
        "\n",
        "user_input_prediction()"
      ],
      "metadata": {
        "id": "BO2tVqtlO_g2",
        "colab": {
          "base_uri": "https://localhost:8080/"
        },
        "outputId": "31998f71-d4f3-4649-9c32-8dfb5cc44da2"
      },
      "execution_count": 5,
      "outputs": [
        {
          "output_type": "stream",
          "name": "stdout",
          "text": [
            "Epoch 0, MSE: 0.14607907170432963\n",
            "Epoch 100, MSE: 0.0005820657380986519\n",
            "Epoch 200, MSE: 0.00046118523798158943\n",
            "Epoch 300, MSE: 0.00037378106294883436\n",
            "Epoch 400, MSE: 0.0002944250004022029\n",
            "Epoch 500, MSE: 0.00023979021368082833\n",
            "Epoch 600, MSE: 0.00019295418793235998\n",
            "Epoch 700, MSE: 0.00015297601197726446\n",
            "Epoch 800, MSE: 0.00012677146839018644\n",
            "Epoch 900, MSE: 9.946080725393755e-05\n",
            "Test Data MSE: 0.002112233451551555\n",
            "Enter x1: 0.7\n",
            "Enter x2: 0.8\n",
            "Enter x3: 0.9\n",
            "Predicted output: [0.51688256]\n"
          ]
        }
      ]
    }
  ]
}