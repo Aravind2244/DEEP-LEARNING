{
  "nbformat": 4,
  "nbformat_minor": 0,
  "metadata": {
    "colab": {
      "provenance": [],
      "authorship_tag": "ABX9TyMSsIHrfG8QhSGeu5V9ITe8",
      "include_colab_link": true
    },
    "kernelspec": {
      "name": "python3",
      "display_name": "Python 3"
    },
    "language_info": {
      "name": "python"
    }
  },
  "cells": [
    {
      "cell_type": "markdown",
      "metadata": {
        "id": "view-in-github",
        "colab_type": "text"
      },
      "source": [
        "<a href=\"https://colab.research.google.com/github/Aravind2244/DEEP-LEARNING/blob/main/2303A52L03_DL_A2.ipynb\" target=\"_parent\"><img src=\"https://colab.research.google.com/assets/colab-badge.svg\" alt=\"Open In Colab\"/></a>"
      ]
    },
    {
      "cell_type": "code",
      "execution_count": null,
      "metadata": {
        "colab": {
          "base_uri": "https://localhost:8080/"
        },
        "id": "J4HdxmoQKIAI",
        "outputId": "043fd972-50cc-49e5-829f-2e08586d5abc"
      },
      "outputs": [
        {
          "output_type": "stream",
          "name": "stdout",
          "text": [
            "Optimal solution:\n",
            "Units of A: 2\n",
            "Units of B: 3\n",
            "Maximum Profit: Rs 27.0\n"
          ]
        }
      ],
      "source": [
        "from scipy.optimize import linprog\n",
        "\n",
        "# Define the profit for each unit (negative because linprog minimizes by default)\n",
        "profit = [-6, -5]  # Profit for A and B\n",
        "\n",
        "# Define the resource usage constraints\n",
        "# Milk and Choco usage for A and B\n",
        "milk_choco_constraints = [\n",
        "    [1, 1],  # Milk required for A and B\n",
        "    [3, 2],  # Choco required for A and B\n",
        "]\n",
        "\n",
        "# Define the total available resources\n",
        "resources = [5, 12]  # Total Milk and Choco available\n",
        "\n",
        "# Bounds for variables (non-negative production)\n",
        "bounds = [(0, None), (0, None)]  # A >= 0, B >= 0\n",
        "\n",
        "# Solve the linear programming problem\n",
        "result = linprog(c=profit, A_ub=milk_choco_constraints, b_ub=resources, bounds=bounds, method='highs')\n",
        "\n",
        "# Display results\n",
        "if result.success:\n",
        "    print(\"Optimal solution:\")\n",
        "    print(\"Units of A:\", int(result.x[0]))\n",
        "    print(\"Units of B:\", int(result.x[1]))\n",
        "    print(\"Maximum Profit: Rs\", -result.fun)\n",
        "else:\n",
        "    print(\"No feasible solution found.\")\n"
      ]
    },
    {
      "cell_type": "code",
      "source": [
        "from scipy.optimize import linprog\n",
        "\n",
        "# Define the profit for Wheat and Barley (negative for maximization)\n",
        "profit = [-50, -120]  # Profit per hectare (Rs)\n",
        "\n",
        "# Define the resource usage constraints\n",
        "# Each row corresponds to a constraint: land, cost, and labor\n",
        "# Each column corresponds to Wheat and Barley\n",
        "constraints = [\n",
        "    [1, 1],        # Total land (in hectares)\n",
        "    [7000, 2000],  # Cost per hectare (Rs)\n",
        "    [10, 30],      # Man-days per hectare\n",
        "]\n",
        "\n",
        "# Define the available resources\n",
        "resources = [100, 700000, 1200]  # Total land, budget, and labor\n",
        "\n",
        "# Bounds for variables (non-negative production)\n",
        "bounds = [(0, None), (0, None)]  # Wheat >= 0, Barley >= 0\n",
        "\n",
        "# Solve the linear programming problem\n",
        "result = linprog(c=profit, A_ub=constraints, b_ub=resources, bounds=bounds, method='highs')\n",
        "\n",
        "# Display results\n",
        "if result.success:\n",
        "    print(\"Optimal solution:\")\n",
        "    print(f\"Hectares of Wheat: {result.x[0]:.2f}\")\n",
        "    print(f\"Hectares of Barley: {result.x[1]:.2f}\")\n",
        "    print(f\"Maximum Profit: Rs {-result.fun:.2f}\")\n",
        "else:\n",
        "    print(\"No feasible solution found.\")\n"
      ],
      "metadata": {
        "colab": {
          "base_uri": "https://localhost:8080/"
        },
        "id": "gShQ4dx4Lax5",
        "outputId": "e68712ac-4fb4-40a0-f6cc-d78108ef2a85"
      },
      "execution_count": 1,
      "outputs": [
        {
          "output_type": "stream",
          "name": "stdout",
          "text": [
            "Optimal solution:\n",
            "Hectares of Wheat: 90.00\n",
            "Hectares of Barley: 10.00\n",
            "Maximum Profit: Rs 5700.00\n"
          ]
        }
      ]
    }
  ]
}